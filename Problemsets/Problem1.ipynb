{
 "cells": [
  {
   "cell_type": "markdown",
   "metadata": {},
   "source": [
    "# Problemset 1"
   ]
  },
  {
   "cell_type": "code",
   "execution_count": 22,
   "metadata": {},
   "outputs": [],
   "source": [
    "import sqlite3 as lite\n",
    "import numpy as np"
   ]
  },
  {
   "cell_type": "code",
   "execution_count": 10,
   "metadata": {},
   "outputs": [],
   "source": [
    "#Connect to database\n",
    "con = lite.connect('/home/esmee/Documents/DBDM/DDM2017-master/Database/DDM15.db')\n"
   ]
  },
  {
   "cell_type": "code",
   "execution_count": 11,
   "metadata": {},
   "outputs": [
    {
     "name": "stdout",
     "output_type": "stream",
     "text": [
      "Ra=198.8475   Dec=10.5034722\n",
      "Ra=198.5654167   Dec=11.0231944\n",
      "Ra=198.9370833   Dec=9.9168889\n",
      "Ra=199.2516667   Dec=10.3486944\n"
     ]
    }
   ],
   "source": [
    "#Iterate over the rows\n",
    "rows = con.execute(\"Select ra, decl FROM Stars\")\n",
    "for row in rows:\n",
    "    print \"Ra={0}   Dec={1}\".format(row[0], row[1])"
   ]
  },
  {
   "cell_type": "code",
   "execution_count": 36,
   "metadata": {},
   "outputs": [],
   "source": [
    "\"\"\"Where is the FITS image stored for star S5?\"\"\"\n",
    "command1 = \"Select O.ID, O.WhereStored, S.FieldID, S.Star FROM Observations as O JOIN Stars as S ON O.ID = S.FieldID WHERE S.Star = 'S5'\""
   ]
  },
  {
   "cell_type": "code",
   "execution_count": 38,
   "metadata": {},
   "outputs": [],
   "source": [
    "com1 = con.execute(command1)\n",
    "for row in stored:\n",
    "    print \"Star {0} is located on {1}\".format(row[-1], row[1])"
   ]
  },
  {
   "cell_type": "code",
   "execution_count": 55,
   "metadata": {},
   "outputs": [
    {
     "name": "stdout",
     "output_type": "stream",
     "text": [
      "Star S1\n",
      "Star S2\n"
     ]
    }
   ],
   "source": [
    "\"\"\"Give me a list of all stars observed with the same FieldID\"\"\"\n",
    "#Get the FieldID\n",
    "command2 = \"Select S.FieldID FROM Stars as S GROUP BY S.FieldID HAVING count(*) > 1\"\n",
    "com2 = con.execute(command2)\n",
    "for row in com2:\n",
    "    fieldID = row[0]\n",
    "#Get the stars associated with fieldID\n",
    "command3 = \"Select S.FieldID, S.Star FROM Stars as S WHERE S.FieldID = {0}\".format(fieldID)\n",
    "com3 = con.execute(command3)\n",
    "for row in com3:\n",
    "    print \"Star {0}\".format(row[1])"
   ]
  },
  {
   "cell_type": "code",
   "execution_count": 65,
   "metadata": {},
   "outputs": [
    {
     "name": "stdout",
     "output_type": "stream",
     "text": [
      "Ra = RA Dec=DEC with B=B\n",
      "Ra =  11:55:43.1 Dec= -02:34:17.2 with B=17.2\n",
      "Ra =  11:32:42.1 Dec= -00:01:17.3 with B=16.5\n"
     ]
    }
   ],
   "source": [
    "\"\"\"Make tables from scratch\"\"\"\n",
    "\"\"\"Find the Ra and Dec of all objects with B > 16 \"\"\"\n",
    "#Connect to database\n",
    "con = lite.connect('/home/esmee/Documents/DBDM/DDM2017-master/Database/Create.db')\n",
    "rows = con.execute(\"Select M.RA, M.DEC, M.B FROM MagTable as M WHERE B > 16\")\n",
    "for row in rows:\n",
    "    print \"Ra = {0} Dec={1} with B={2}\".format(row[0], row[1], row[2])"
   ]
  },
  {
   "cell_type": "code",
   "execution_count": null,
   "metadata": {},
   "outputs": [],
   "source": []
  },
  {
   "cell_type": "code",
   "execution_count": null,
   "metadata": {},
   "outputs": [],
   "source": []
  }
 ],
 "metadata": {
  "kernelspec": {
   "display_name": "Python 2",
   "language": "python",
   "name": "python2"
  },
  "language_info": {
   "codemirror_mode": {
    "name": "ipython",
    "version": 2
   },
   "file_extension": ".py",
   "mimetype": "text/x-python",
   "name": "python",
   "nbconvert_exporter": "python",
   "pygments_lexer": "ipython2",
   "version": "2.7.12"
  }
 },
 "nbformat": 4,
 "nbformat_minor": 2
}
